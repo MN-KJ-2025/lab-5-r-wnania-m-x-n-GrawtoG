{
 "cells": [
  {
   "cell_type": "markdown",
   "metadata": {},
   "source": [
    "# <center>Metody Numeryczne</center>\n",
    "\n",
    "# Laboratorium 5: Równania liniowe MxN\n",
    "\n",
    "\n",
    "**Wykonał:** \\<imię i nazwisko\\>\n",
    "\n",
    "<br>\n",
    "\n",
    "### **Metoda zaliczenia:**\n",
    "\n",
    "Podczas zajęć należy wykonać poniższe polecenia oraz udzielić odpowiedzi na pytania zamieszczone w treści zadań. \n",
    "\n",
    "Wszystkie funkcje wymagane w ramach ćwiczenia należy zaimplementować w pliku `main.py`. Poprawność ich działania należy zweryfikować za pomocą testów jednostkowych dostępnych w pliku `test_main.py`.\n",
    "\n",
    "### **Cel zajęć:**\n",
    "\n",
    "Celem zajęć jest zapoznanie się z numerycznymi metodami rozwiązywania układów równań liniowych w postaci macierzowej, w szczególności z wykorzystaniem rzadkich macierzy prostokątnych.\n",
    "\n",
    "Dana jest prostokątna macierz $\\mathbf{A}$ o wymiarach $m \\times n$ oraz wektor kolumnowy $\\mathbf{b}$ o wymiarach $m \\times 1$. Należy rozwiązać układ równań postaci:\n",
    " \n",
    "$$\n",
    "\\mathbf{Ax}=\\mathbf{b}\n",
    "$$\n",
    "  \n",
    "gdzie:\n",
    "- $\\mathbf{A}$ - macierz współczynników z lewej strony równania, \n",
    "- $\\mathbf{x}$ - wektor zmiennych,\n",
    "- $\\mathbf{b}$ - wektor wyników prawej strony równania.  \n",
    "\n",
    "Do oceny jakości rozwiązania wykorzystywać będziemy residuum (ang. *residual*):\n",
    "\n",
    "$$\n",
    "\\mathbf{r}=\\mathbf{b}-\\mathbf{Ax}\n",
    "$$\n",
    "\n",
    "\n",
    "### **Uwagi wstępne:**\n",
    "- Funkcje wymagające implementacji (lub zaimplementowane na poprzednich laboratoriach) oznaczone są pochyłą czcionką maszynową (np. *`my_func()`*).\n",
    "\n",
    "- Do wykonania analizy zużycia pamięci potrzebna jest biblioteka [*memory_profiler*](https://pypi.org/project/memory-profiler/), która do poprawnego działania wymaga doinstalowania pakietu [*setuptools*](https://pypi.org/project/setuptools/). Po instalacji bibliotek może wystąpić błąd związany z brakiem modułu *distutils*. Należy go zignorować i przeładować okno VSCode (lub zrestartować kernela).\n",
    "\n",
    "- W skrypcie stosuje się następujące skróty:\n",
    "\n",
    "    - `np` - `numpy`,\n",
    "    - `sp` - `scipy`."
   ]
  },
  {
   "cell_type": "markdown",
   "metadata": {},
   "source": [
    "---"
   ]
  },
  {
   "cell_type": "code",
   "execution_count": 8,
   "metadata": {},
   "outputs": [
    {
     "name": "stdout",
     "output_type": "stream",
     "text": [
      "The memory_profiler extension is already loaded. To reload it, use:\n",
      "  %reload_ext memory_profiler\n"
     ]
    }
   ],
   "source": [
    "# !python -m pip install numpy scipy matplotlib memory_profiler setuptools\n",
    "\n",
    "import main\n",
    "\n",
    "import numpy as np\n",
    "import scipy as sp\n",
    "import matplotlib.pyplot as plt\n",
    "\n",
    "%load_ext memory_profiler"
   ]
  },
  {
   "cell_type": "markdown",
   "metadata": {},
   "source": [
    "---"
   ]
  },
  {
   "cell_type": "markdown",
   "metadata": {},
   "source": [
    "### **Zadanie 1.**\n",
    "\n",
    "Zdefiniuj funkcję *`spare_matrix_Abt()`* generującą wektor $m$-wymiarowy $\\mathbf{t}$, którego wartości należą do przedziału $[0,1]$ (za pomocą funkcji [`np.linspace()`](https://numpy.org/doc/stable/reference/generated/numpy.linspace.html)). Na podstawie tego wektora funkcja powinna zwracać:\n",
    "- $\\mathbf{b}$ - wektor $m$-wymiarowy, którego wartości dane są funkcją $\\cos(4t)$,\n",
    "- $\\mathbf{A}$ - macierz postaci: \n",
    "\n",
    "$$\n",
    "\\left[\n",
    "\\begin{matrix}\n",
    "    1       & t_0      & t_{0}^{2}    & \\cdots  & t_{0}^{n-1}   \\\\\n",
    "    1       & t_1      & t_{1}^{2}    & \\cdots  & t_{1}^{n-1}   \\\\\n",
    "    1       & t_2      & t_{2}^{2}    & \\cdots  & t_{2}^{n-1}   \\\\\n",
    "    \\vdots  & \\vdots   & \\vdots       & \\ddots  & \\vdots        \\\\\n",
    "    1       & t_{m-1}  & t_{m-1}^{2}  & \\cdots  & t_{m-1}^{n-1} \n",
    "\\end{matrix}\n",
    "\\right]\n",
    "$$  \n",
    "\n",
    "> **Wskazówka:** Do definicji macierzy $\\mathbf{A}$ można użyć funkcji [`np.vander()`](https://numpy.org/doc/stable/reference/generated/numpy.vander.html) z odpowiednio dobranymi parametrami."
   ]
  },
  {
   "cell_type": "code",
   "execution_count": 9,
   "metadata": {},
   "outputs": [],
   "source": [
    "def spare_matrix_Abt(m: int, n: int) -> tuple[np.ndarray, np.ndarray] | None:\n",
    "    try: \n",
    "            if not isinstance(m,int) or not isinstance(n,int):\n",
    "                return None\n",
    "            if m<=0 or n<=0:\n",
    "                return None\n",
    "            t=np.linspace(0,1,m)\n",
    "            return (np.asarray(np.vander(t,n, True)),np.asarray([np.cos(4*_t) for _t in t]))\n",
    "    except Exception:\n",
    "        return None"
   ]
  },
  {
   "cell_type": "markdown",
   "metadata": {},
   "source": [
    "---"
   ]
  },
  {
   "cell_type": "markdown",
   "metadata": {},
   "source": [
    "### **Zadanie 2.**\n",
    "\n",
    "Korzystając z funkcji zaimplementowanej w **Zadaniu 1.**, oraz mając dane $m = 50$ i $n = 12$, rozwiąż układ równań $\\mathbf{Ax}=\\mathbf{b}$ postaci:\n",
    "\n",
    "$$\n",
    "\\left[\n",
    "\\begin{matrix}\n",
    "    1       & t_0      & t_{0}^{2}    & \\cdots  & t_{0}^{n-1}   \\\\\n",
    "    1       & t_1      & t_{1}^{2}    & \\cdots  & t_{1}^{n-1}   \\\\\n",
    "    1       & t_2      & t_{2}^{2}    & \\cdots  & t_{2}^{n-1}   \\\\\n",
    "    \\vdots  & \\vdots   & \\vdots       & \\ddots  & \\vdots        \\\\\n",
    "    1       & t_{m-1}  & t_{m-1}^{2}  & \\cdots  & t_{m-1}^{n-1} \n",
    "\\end{matrix}\n",
    "\\right]\n",
    "\\left[\n",
    "\\begin{matrix}\n",
    "    x_0    \\\\\n",
    "    x_1    \\\\\n",
    "    x_2    \\\\\n",
    "    \\vdots \\\\\n",
    "    x_{n-1}\n",
    "\\end{matrix}\n",
    "\\right]\n",
    "=\n",
    "\\left[\n",
    "\\begin{matrix}\n",
    "    b_0    \\\\\n",
    "    b_1    \\\\\n",
    "    b_2    \\\\\n",
    "    \\vdots \\\\\n",
    "    b_{m-1}\n",
    "\\end{matrix}\n",
    "\\right]\n",
    "$$\n",
    "\n",
    "za pomocą następujacych metod:\n",
    "\n",
    "1. Przekształcenia układu równań do postaci $\\mathbf{A}^{\\mathrm{T}}\\mathbf{Ax}=\\mathbf{A}^{\\mathrm{T}}\\mathbf{b}$ i stosując funkcję [`np.linalg.solve()`](https://numpy.org/doc/stable/reference/generated/numpy.linalg.solve.html). Aby wyznaczyć $\\mathbf{A}^{\\mathrm{T}}\\mathbf{A}$ oraz $\\mathbf{A}^{\\mathrm{T}}\\mathbf{b}$ zaimplementuj funkcję *`square_from_rectan()`*.\n",
    "\n",
    "2. Użycia dedykowanej metody z biblioteki numpy do rozwiązywania problemu najmniejszych kwadratów&mdash;funkcji [`np.linalg.lstsq()`](https://numpy.org/doc/stable/reference/generated/numpy.linalg.lstsq.html).  \n",
    "\n",
    "3. Rozkładu QR podanego na wykładzie i wyznaczenia rozwiązania dla układu równań z macierzą trójkątną. Użyć należy funkcji [`np.linalg.qr()`](https://numpy.org/doc/stable/reference/generated/numpy.linalg.qr.html) i [`sp.linalg.solve_triangular()`](https://docs.scipy.org/doc/scipy/reference/generated/scipy.linalg.solve_triangular.html).\n",
    "\n",
    "4. Rozkładu SVD podanego na wykładzie. Użyć należy funkcji [`np.linalg.svd()`](https://numpy.org/doc/stable/reference/generated/numpy.linalg.svd.html).\n",
    "\n",
    "Po zaimplementowaniu powyższych metod przeprowadź profilowanie kodu w celu analizy czasu wykonania oraz zużycia pamięci każdej z nich. Porównaj jakość otrzymanych wyników."
   ]
  },
  {
   "cell_type": "code",
   "execution_count": null,
   "metadata": {},
   "outputs": [],
   "source": [
    "# ===== Twoja implementacja tutaj =====\n",
    "\n",
    "\n"
   ]
  },
  {
   "cell_type": "code",
   "execution_count": 11,
   "metadata": {},
   "outputs": [
    {
     "name": "stdout",
     "output_type": "stream",
     "text": [
      "Wyznaczona norma residuum dla kolejnych metod obliczeń:\n"
     ]
    },
    {
     "ename": "NameError",
     "evalue": "name 'norm' is not defined",
     "output_type": "error",
     "traceback": [
      "\u001b[31m---------------------------------------------------------------------------\u001b[39m",
      "\u001b[31mNameError\u001b[39m                                 Traceback (most recent call last)",
      "\u001b[36mCell\u001b[39m\u001b[36m \u001b[39m\u001b[32mIn[11]\u001b[39m\u001b[32m, line 3\u001b[39m\n\u001b[32m      1\u001b[39m \u001b[38;5;66;03m# Przykładowa forma zestawienia wyników\u001b[39;00m\n\u001b[32m      2\u001b[39m \u001b[38;5;28mprint\u001b[39m(\u001b[33m\"\u001b[39m\u001b[33mWyznaczona norma residuum dla kolejnych metod obliczeń:\u001b[39m\u001b[33m\"\u001b[39m) \n\u001b[32m----> \u001b[39m\u001b[32m3\u001b[39m \u001b[38;5;28mprint\u001b[39m(\u001b[33mf\u001b[39m\u001b[33m\"\u001b[39m\u001b[33mPierwsza metoda :  \u001b[39m\u001b[38;5;132;01m{\u001b[39;00m\u001b[43mnorm\u001b[49m[\u001b[32m0\u001b[39m]\u001b[38;5;132;01m:\u001b[39;00m\u001b[33m.3e\u001b[39m\u001b[38;5;132;01m}\u001b[39;00m\u001b[33m\"\u001b[39m)\n\u001b[32m      4\u001b[39m \u001b[38;5;28mprint\u001b[39m(\u001b[33mf\u001b[39m\u001b[33m\"\u001b[39m\u001b[33mDruga metoda    :  \u001b[39m\u001b[38;5;132;01m{\u001b[39;00mnorm[\u001b[32m1\u001b[39m]\u001b[38;5;132;01m:\u001b[39;00m\u001b[33m.3e\u001b[39m\u001b[38;5;132;01m}\u001b[39;00m\u001b[33m\"\u001b[39m)\n\u001b[32m      5\u001b[39m \u001b[38;5;28mprint\u001b[39m(\u001b[33mf\u001b[39m\u001b[33m\"\u001b[39m\u001b[33mTrzecia metoda  :  \u001b[39m\u001b[38;5;132;01m{\u001b[39;00mnorm[\u001b[32m2\u001b[39m]\u001b[38;5;132;01m:\u001b[39;00m\u001b[33m.3e\u001b[39m\u001b[38;5;132;01m}\u001b[39;00m\u001b[33m\"\u001b[39m)\n",
      "\u001b[31mNameError\u001b[39m: name 'norm' is not defined"
     ]
    }
   ],
   "source": [
    "# Przykładowa forma zestawienia wyników\n",
    "print(\"Wyznaczona norma residuum dla kolejnych metod obliczeń:\") \n",
    "print(f\"Pierwsza metoda :  {norm[0]:.3e}\")\n",
    "print(f\"Druga metoda    :  {norm[1]:.3e}\")\n",
    "print(f\"Trzecia metoda  :  {norm[2]:.3e}\")\n",
    "print(f\"Czwarta metoda  :  {norm[3]:.3e}\")\n",
    "print(\"\")\n",
    "print(\"Czas wykonywania dla kolejnych metod obliczeń:\")\n",
    "print(f\"Pierwsza metoda :  {str(time[0])[:29]}\")\n",
    "print(f\"Druga metoda    :  {str(time[1])[:29]}\")\n",
    "print(f\"Trzecia metoda  :  {str(time[2])[:29]}\")\n",
    "print(f\"Czwarta metoda  :  {str(time[3])[:29]}\")\n",
    "print(\"\")\n",
    "print(\"Użyta pamięć dla kolejnych metod obliczeń:\")\n",
    "print(f\"Pierwsza metoda :  {str(memory[0])}\")\n",
    "print(f\"Druga metoda    :  {str(memory[1])}\")\n",
    "print(f\"Trzecia metoda  :  {str(memory[2])}\")\n",
    "print(f\"Czwarta metoda  :  {str(memory[3])}\")"
   ]
  },
  {
   "cell_type": "markdown",
   "metadata": {},
   "source": [
    "---"
   ]
  },
  {
   "cell_type": "markdown",
   "metadata": {},
   "source": [
    "### **Zadanie 3.**\n",
    "\n",
    "Dane są wydatki ($\\mathbf{w}$) oraz dochody ($\\mathbf{d}$) dla pewnego gospodarstwa:\n",
    "\n",
    "$$\n",
    "\\begin{align*}\n",
    "    \\mathbf{w} &= (140, 190, 250, 270, 290, 310, 340, 360, 420, 390)\\\\\n",
    "    \\mathbf{d} &= (210, 270, 290, 310, 370, 400, 450, 480, 510, 520)\n",
    "\\end{align*}\n",
    "$$\n",
    "\n",
    "\n",
    "1. Utwórz regresję liniową zależności wydatków od dochodów.\n",
    "\n",
    "2. Przeanalizuj jaki jest błąd uzyskanej prostej względem danych. Czy istnieje możliwość uzyskania lepszego wyniku?\n",
    "\n",
    "> **Wskazówka:** W celu wyznaczenia współczynników wykorzystaj niniejszą informację nt. regresji liniowej [[link](https://en.wikipedia.org/wiki/Simple_linear_regression#Formulation_and_computation)].\n"
   ]
  },
  {
   "cell_type": "code",
   "execution_count": 12,
   "metadata": {},
   "outputs": [],
   "source": [
    "# Dane do Zadania 3.\n",
    "w = np.array([140, 190, 250, 270, 290, 310, 340, 360, 420, 390])\n",
    "d = np.array([210, 270, 290, 310, 370, 400, 450, 480, 510, 520])"
   ]
  },
  {
   "cell_type": "code",
   "execution_count": 16,
   "metadata": {},
   "outputs": [
    {
     "data": {
      "image/png": "[encoded data removed]",
      "text/plain": [
       "<Figure size 640x480 with 1 Axes>"
      ]
     },
     "metadata": {},
     "output_type": "display_data"
    }
   ],
   "source": [
    "# ===== Twoja implementacja tutaj =====\n",
    "a,b=np.polyfit(w,d,1)\n",
    "plt.scatter(w,d)\n",
    "plt.plot(w,[a*x+b for x in w])\n",
    "plt.show()"
   ]
  },
  {
   "cell_type": "markdown",
   "metadata": {},
   "source": [
    "---"
   ]
  },
  {
   "cell_type": "markdown",
   "metadata": {},
   "source": [
    "### **Zadanie 4.**\n",
    "\n",
    "W rzeczywistych problemach często dokładna postać analityczna analizowanego procesu nie jest znana, a dostępne są jedynie jego dane wejściowe i wyjściowe. W tym zadaniu przeprowadzona zostanie symulacja takiego scenariusza oraz opisany zostanie problem poszukiwania modelu analitycznego jak najdokładniej odzwierciedlającego analizowany proces.\n",
    "\n",
    "<br>\n",
    "\n",
    "**Punkt 1. Symulacja danych pomiarowych.**\n",
    "\n",
    "Zdefiniowany jest rzeczywisty proces opisany następującą zależnością:\n",
    "\n",
    "$$\n",
    "y = 2 + x_1 - 0.5x_2 + \\epsilon\n",
    "$$\n",
    "\n",
    "gdzie:\n",
    "- $y$ - dane wyjściowe procesu,\n",
    "- $x_1$, $x_2$ - mierzalne zmienne niezależne, które wpływają na proces,\n",
    "- $\\epsilon$ - zakłócenie procesu.\n",
    "\n",
    "Należy przygotować dane procesu, które posłużą w Punkcie 2. do jego modelowania.\n",
    "\n",
    "1. Przy użyciu funkcji [`np.random.normal()`](https://numpy.org/doc/stable/reference/random/generated/numpy.random.normal.html) wygeneruj wektory kolumnowe danych wejściowych procesu ($\\mathbf{x}_1$, $\\mathbf{x}_2$) oraz wektor zakłóceń ($\\mathbf{\\epsilon}$) o wymiarze $(100,1)$. Każdy z nich powinien charakteryzować się średnią równą $0$ oraz odchyleniem standardowym równym $1$.\n",
    "\n",
    "2. Oblicz wartości wektora $\\mathbf{y}$ (dane wyjściowe procesu), korzystając z podanego wzoru opisującego proces oraz wektorów zdefiniowanych w poprzednim podpunkcie.\n",
    "\n",
    "<br>\n",
    "\n",
    "**Punkt 2. Modelowanie procesu.**\n",
    "\n",
    "\n",
    "W Punkcie 1. opisany został rzeczywisty proces, na podstawie którego przygotowane zostały dane do analizy. W tym punkcie natomiast przyjmuje się założenie, że dokładne równanie procesu ($y = ...$) oraz wektor szumów ($\\mathbf{\\epsilon}$) nie są znane. Danymi, na których przeprowadzone będzie modelowanie, są jedynie wektory danych wejściowych ($\\mathbf{x}_1$, $\\mathbf{x}_2$) oraz danych wyjściowych ($\\mathbf{y}$).\n",
    "\n",
    "Wszystkie modele używane w ramach tego zadania będą postaci:\n",
    "\n",
    "$$\n",
    "\\hat{y} \\sim a + z_1 + z_2 + ... + z_n\n",
    "$$\n",
    "\n",
    "gdzie:\n",
    "- $\\hat{y}$ - przybliżenie modelowanego procesu,\n",
    "- $a$ - wyraz wolny,\n",
    "- $z_1 + z_2 + ... + z_n$ - zmienne niezależne, których ilość dobiera się na podstawie dostępnych danych, tak aby otrzymać jak najlepszy model.\n",
    "\n",
    "Celem zadania jest wyznaczenie wektora współczynników [regresji liniowej](https://en.wikipedia.org/wiki/Linear_regression) $\\mathbf{b}$, co sprowadza się do rozwiązania równania:\n",
    "\n",
    "$$\n",
    "\\mathbf{y} = b_0 \\cdot \\mathbf{1} + b_1 \\mathbf{z}_1 + b_2 \\mathbf{z}_2 + ... + b_n \\mathbf{z}_{n}\n",
    "$$\n",
    "\n",
    "które w postaci macierzowej przybiera postać:\n",
    "\n",
    "$$\n",
    "\\mathbf{Z} \\mathbf{b} = \\mathbf{y}\n",
    "$$\n",
    "\n",
    "gdzie:\n",
    "- $\\mathbf{Z}$ - macierz rzeczywistych danych wejściowych do procesu,\n",
    "- $\\mathbf{b}$ - wektor współczynników regresji liniowej do wyliczenia,\n",
    "- $\\mathbf{y}$ - wektor rzeczywistych danych wyjściowych z procesu.\n",
    "\n",
    "<br>\n",
    "\n",
    "W ramach zadania przeanalizowane i porównane zostaną poniższe modele:\n",
    "1. $\\hat{y} \\sim a + x_1$   \n",
    "2. $\\hat{y} \\sim a + x_2$\n",
    "3. $\\hat{y} \\sim a + x_1 + x_2$\n",
    "4. $\\hat{y} \\sim a + x_1 + x_2 + x_1x_2$\n",
    "\n",
    "Dla każdego z modeli zdefiniowanych powyżej:\n",
    "\n",
    "1. Rozpisz analitycznie równanie opisujące model, analogicznie jak w opisie powyżej (np. $\\mathbf{y} = b_0 \\cdot \\mathbf{1} + ... $). Opisz co oznaczają poszczególne elementy wzoru. \n",
    "\n",
    "2. Przedstaw otrzymane równanie w formie macierzowej i zdefiniuj $\\mathbf{Z}$, $\\mathbf{b}$ oraz $\\mathbf{y}$. Podaj wymiary każdego z nich oraz napisz z czego wynikają.\n",
    "\n",
    "3. Wyznacz wektor współczynników regresji liniowej ($\\mathbf{b}$) wykorzystując rozkład QR.\n",
    "\n",
    "4. Przedstaw na wykresie rzeczywiste wartości wyjściowe procesu ($\\mathbf{y}$) oraz wyznaczoną funkcję regresji (pomiń ten podpunkt dla ostatniego modelu).\n",
    "\n",
    "\n",
    "Po przeprowadzeniu analizy dla wszystkich modeli przeanalizuj znanymi metrykami otrzymane wyniki i je opisz.\n",
    "\n",
    "\n",
    "> **Wskazówka:** Macierz $\\mathbf{Z}$ składa się z konkatenacji wektorów kolumnowych zmiennych niezależnych oraz wektora kolumnowego wypełnionego jedynkami, odpowiadającego wyrazowi wolnemu w modelu ($\\mathbf{Z} = [\\mathbf{1}, \\mathbf{z}_1, ... , \\mathbf{z}_n]$). Do utworzenia takiej macierzy można posłużyć się funkcją [`np.concatenate()`](https://numpy.org/doc/stable/reference/generated/numpy.concatenate.html).\n",
    ">\n",
    "> Płaszczyznę regresji dla trzeciego modelu można wyrysować stosując [`np.meshgrid()`](https://numpy.org/doc/stable/reference/generated/numpy.meshgrid.html) oraz [`plot_wireframe()`](https://matplotlib.org/stable/plot_types/3D/wire3d_simple.html).\n",
    ">\n",
    "> Rozkład QR w skrócie: dane jest równanie: $\\mathbf{A}\\mathbf{x} = \\mathbf{b}$. Jeżeli zdefiniujemy dodatkowo $\\mathbf{A} = \\mathbf{Q} \\mathbf{R}$ to zachodzi: $\\mathbf{R}\\mathbf{x} = \\mathbf{Q}^T\\mathbf{b}$."
   ]
  },
  {
   "cell_type": "code",
   "execution_count": null,
   "metadata": {},
   "outputs": [
    {
     "name": "stdout",
     "output_type": "stream",
     "text": [
      "[ 1.28910327  0.09531529 -0.09315245  2.11553483  2.85543333  3.19654853\n",
      "  6.36833255  1.73138797  2.63822608  2.01691361  3.79689426 -0.40094464\n",
      "  4.08451452  4.26602425  1.71398657  1.15028544  2.58591834 -0.97457401\n",
      "  2.96965027  0.75022823  3.08706807  1.90687817  3.00362836 -0.6189628\n",
      "  2.78934429  0.6503378   2.89235733 -0.40810424  2.57660275  0.26349259\n",
      "  1.24599302 -0.40848204  1.40974757  2.46021039  0.95996574  3.05747539\n",
      "  2.22830855  1.10716911  3.06099672  3.36954003  2.875273    2.1679432\n",
      "  1.22394217  3.55350145  1.51499003  1.9759346   3.00720584  0.6885901\n",
      "  1.24610342  0.53158156  2.80410581  2.46811861  0.87776767  1.44977792\n",
      "  0.85349469  4.23476335  0.99395406  5.33985078  2.85002778  3.54406479\n",
      "  2.18715856 -0.51087233  2.2613226   2.59374836  0.63294786  0.47888757\n",
      "  1.23307979  0.52432692  1.86921436  1.24511022  1.484079    3.63834078\n",
      "  5.13950783 -0.04427446  0.71453032  1.98784292  3.65931769  2.47551665\n",
      "  3.21113156  1.53089864  2.73260424  1.57979797  1.18316564  3.89631949\n",
      "  0.85012778  1.77893426  0.09568106  1.10549181  3.31183985  0.10995377\n",
      " -0.65012323  3.3709177   2.32167827  3.40908715  0.82647514  3.13139446\n",
      "  3.55738358 -0.56624479  2.19461867  0.93499872]\n"
     ]
    }
   ],
   "source": [
    "# ===== Twoja implementacja tutaj =====\n",
    "x1,x2,e=(np.random.normal(size=[100,1]),np.random.normal(size=[100,1]),np.random.normal(size=[100,1]))\n",
    "y=2+x1+0.5*x2+e\n",
    "print(y)"
   ]
  },
  {
   "cell_type": "markdown",
   "metadata": {},
   "source": [
    "---"
   ]
  },
  {
   "cell_type": "markdown",
   "metadata": {},
   "source": [
    "**Materiały uzupełniające:**\n",
    "- [Scipy Lecture Notes](http://www.scipy-lectures.org/index.html)\n",
    "- [NumPy for Matlab users](https://docs.scipy.org/doc/numpy/user/numpy-for-matlab-users.html#numpy-for-matlab-users)\n",
    "- [Python Tutorial - W3Schools](https://www.w3schools.com/python/default.asp)\n",
    "- [NumPy](https://www.numpy.org)\n",
    "- [Matplotlib](https://matplotlib.org/)\n",
    "- [Anaconda](https://www.anaconda.com/)\n",
    "- [Learn Python for Data Science](https://www.datacamp.com/learn-python-with-anaconda?utm_source=Anaconda_download&utm_campaign=datacamp_training&utm_medium=banner)\n",
    "- [Learn Python](https://www.learnpython.org/)\n",
    "- [Wujek Google](https://google.pl) i [Ciocia Wikipedia](https://pl.wikipedia.org/wiki/Wikipedia:Strona_g%C5%82%C3%B3wna)"
   ]
  }
 ],
 "metadata": {
  "kernelspec": {
   "display_name": ".venv (3.11.9)",
   "language": "python",
   "name": "python3"
  },
  "language_info": {
   "codemirror_mode": {
    "name": "ipython",
    "version": 3
   },
   "file_extension": ".py",
   "mimetype": "text/x-python",
   "name": "python",
   "nbconvert_exporter": "python",
   "pygments_lexer": "ipython3",
   "version": "3.11.9"
  }
 },
 "nbformat": 4,
 "nbformat_minor": 2
}
